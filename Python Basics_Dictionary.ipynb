{
 "cells": [
  {
   "cell_type": "code",
   "execution_count": 6,
   "metadata": {},
   "outputs": [
    {
     "name": "stdout",
     "output_type": "stream",
     "text": [
      "12346789"
     ]
    }
   ],
   "source": [
    "for x in range(1,10):                    #Continue statement\n",
    "    if x==5:   \n",
    "        continue\n",
    "    print(x,end='')"
   ]
  },
  {
   "cell_type": "code",
   "execution_count": null,
   "metadata": {},
   "outputs": [],
   "source": []
  },
  {
   "cell_type": "code",
   "execution_count": 7,
   "metadata": {},
   "outputs": [
    {
     "name": "stdout",
     "output_type": "stream",
     "text": [
      "1234"
     ]
    }
   ],
   "source": [
    "for x in range(1,10):                    #Break Statement\n",
    "    if x==5:\n",
    "        break\n",
    "    print(x,end='')"
   ]
  },
  {
   "cell_type": "code",
   "execution_count": 8,
   "metadata": {},
   "outputs": [
    {
     "name": "stdout",
     "output_type": "stream",
     "text": [
      "123456789"
     ]
    }
   ],
   "source": [
    "for x in range(1,10):                    #Pass Statement (Django people use a lot)\n",
    "    if x==5:\n",
    "       pass\n",
    "    print(x,end='')"
   ]
  },
  {
   "cell_type": "code",
   "execution_count": 3,
   "metadata": {},
   "outputs": [
    {
     "name": "stdout",
     "output_type": "stream",
     "text": [
      "**\n",
      "**\n",
      "**\n",
      "**\n"
     ]
    }
   ],
   "source": [
    "for x in range(2,6):\n",
    "    print(\"**\")\n",
    "\n",
    "\n"
   ]
  },
  {
   "cell_type": "code",
   "execution_count": 5,
   "metadata": {},
   "outputs": [
    {
     "name": "stdout",
     "output_type": "stream",
     "text": [
      " *\n",
      "  **\n",
      "   ***\n",
      "    ****\n",
      "     *****\n"
     ]
    }
   ],
   "source": [
    "for i in range(1,6):\n",
    "    for x in range(1,i+1):\n",
    "        print(\" \",end='')\n",
    "    for y in range(1,i+1):\n",
    "        print(\"*\",end='')\n",
    "    print()"
   ]
  },
  {
   "cell_type": "code",
   "execution_count": 34,
   "metadata": {},
   "outputs": [
    {
     "name": "stdout",
     "output_type": "stream",
     "text": [
      " *    ****\n",
      "  **    ****\n",
      "   ***    ****\n",
      "    ****    ****\n",
      "     *****    ****\n",
      "                                       *****    ****\n",
      "                                          *****    ****\n",
      "                                            *****    ****\n",
      "                                             *****    ****\n"
     ]
    }
   ],
   "source": [
    "for i in range(1,10):\n",
    "    for x in range(1,i+1):\n",
    "        if i<=5:\n",
    "            print(\" \",end='')\n",
    "        elif i>5:\n",
    "            for l in range(10-x):\n",
    "                print(\" \",end='')\n",
    "                \n",
    "    for y in range(1,i+1):\n",
    "        if y==6:\n",
    "            break\n",
    "        print(\"*\",end='') \n",
    "\n",
    "    for k in range(4,0,-1):\n",
    "        print(\" \",end='')\n",
    "    for z in range(4,0,-1):\n",
    "        print(\"*\",end='')\n",
    "    print()"
   ]
  },
  {
   "cell_type": "code",
   "execution_count": 37,
   "metadata": {},
   "outputs": [
    {
     "name": "stdout",
     "output_type": "stream",
     "text": [
      " *\n",
      "  *\n",
      "   *\n",
      "    *\n",
      "     *\n",
      "                                       *\n",
      "                                          *\n",
      "                                            *\n",
      "                                             *\n"
     ]
    }
   ],
   "source": [
    "for i in range(1,10):\n",
    "    for x in range(1,i+1):\n",
    "        if i<=5:\n",
    "            print(\" \",end='')\n",
    "        elif i>5:\n",
    "            for l in range(10-x):\n",
    "                print(\" \",end='')\n",
    "    print(\"*\")"
   ]
  },
  {
   "cell_type": "code",
   "execution_count": 1,
   "metadata": {},
   "outputs": [],
   "source": [
    "   li=[1,2,3,4,5,6,7]"
   ]
  },
  {
   "cell_type": "code",
   "execution_count": 2,
   "metadata": {},
   "outputs": [
    {
     "data": {
      "text/plain": [
       "[1, 2, 3, 4, 5, 6, 7]"
      ]
     },
     "execution_count": 2,
     "metadata": {},
     "output_type": "execute_result"
    }
   ],
   "source": [
    "li"
   ]
  },
  {
   "cell_type": "code",
   "execution_count": 3,
   "metadata": {},
   "outputs": [],
   "source": [
    "li.extend([11,12,13])"
   ]
  },
  {
   "cell_type": "code",
   "execution_count": 4,
   "metadata": {},
   "outputs": [
    {
     "data": {
      "text/plain": [
       "[1, 2, 3, 4, 5, 6, 7, 11, 12, 13]"
      ]
     },
     "execution_count": 4,
     "metadata": {},
     "output_type": "execute_result"
    }
   ],
   "source": [
    "li"
   ]
  },
  {
   "cell_type": "code",
   "execution_count": 5,
   "metadata": {},
   "outputs": [],
   "source": [
    "li.insert(4,123)"
   ]
  },
  {
   "cell_type": "code",
   "execution_count": 6,
   "metadata": {},
   "outputs": [
    {
     "data": {
      "text/plain": [
       "[1, 2, 3, 4, 123, 5, 6, 7, 11, 12, 13]"
      ]
     },
     "execution_count": 6,
     "metadata": {},
     "output_type": "execute_result"
    }
   ],
   "source": [
    "li"
   ]
  },
  {
   "cell_type": "code",
   "execution_count": 1,
   "metadata": {},
   "outputs": [
    {
     "name": "stdout",
     "output_type": "stream",
     "text": [
      "Enter NameKamal Sharma\n",
      " K Sharma\n"
     ]
    }
   ],
   "source": [
    "newname=''\n",
    "name = input('Enter Name')\n",
    "lname = name.split()\n",
    "size = len(lname)\n",
    "for x in range(size-1):\n",
    "    newname =newname + ' ' + lname[x][0]\n",
    "newname =newname + ' ' + lname[size-1]\n",
    "print(newname)"
   ]
  },
  {
   "cell_type": "code",
   "execution_count": 2,
   "metadata": {},
   "outputs": [
    {
     "name": "stdout",
     "output_type": "stream",
     "text": [
      "Enter NameAditya Singh Kanwar\n",
      " Aditya S K\n"
     ]
    }
   ],
   "source": [
    "newname=''\n",
    "name = input('Enter Name')\n",
    "lists = name.split()\n",
    "size = len(lists)\n",
    "for x in range(0,size):\n",
    "    if(x==0):\n",
    "        newname = newname + ' ' + lists[x]\n",
    "    else:\n",
    "        newname = newname + ' ' + lists[x][0]\n",
    "print(newname)"
   ]
  },
  {
   "cell_type": "code",
   "execution_count": 29,
   "metadata": {},
   "outputs": [
    {
     "name": "stdout",
     "output_type": "stream",
     "text": [
      "Enter NameKamal Sharma\n",
      " amrahS lamaK\n"
     ]
    }
   ],
   "source": [
    "newname=''\n",
    "name=input('Enter Name')\n",
    "lists=name.split()\n",
    "size=len(lists)\n",
    "for x in range(size,0,-1):\n",
    "    newname = newname + ' ' + lists[x-1][::-1]\n",
    "print(newname)\n",
    "    "
   ]
  },
  {
   "cell_type": "code",
   "execution_count": 39,
   "metadata": {},
   "outputs": [
    {
     "name": "stdout",
     "output_type": "stream",
     "text": [
      "abcd\n",
      "defg\n",
      "ghij\n",
      "jklm\n",
      "mnop\n",
      "pqrs\n",
      "stuv\n",
      "vwxy\n",
      "yz\n",
      "\n"
     ]
    }
   ],
   "source": [
    "start=0\n",
    "end=4\n",
    "line=''\n",
    "alpha='abcdefghijklmnopqrstuvwxyz'\n",
    "for x in range(10):\n",
    "    line =alpha[start:end]\n",
    "    print(line)\n",
    "    start=start+3\n",
    "    end=end+3"
   ]
  },
  {
   "cell_type": "markdown",
   "metadata": {},
   "source": [
    "# 29 January"
   ]
  },
  {
   "cell_type": "code",
   "execution_count": 7,
   "metadata": {},
   "outputs": [
    {
     "name": "stdout",
     "output_type": "stream",
     "text": [
      "Enter the  number of rows :6\n",
      "* * * * * * \n",
      "* *   * * \n",
      "*  * *  * \n",
      "*  * *  * \n",
      "* *   * * \n",
      "* * * * * * \n"
     ]
    }
   ],
   "source": [
    "num = int(input(\"Enter the  number of rows :\"))\n",
    "for i in range(1,num+1):\n",
    "    for j in range(1,num+1):\n",
    "        if(i==1 or i==num or j==1 or j==num or i==j or i+j==num+1):\n",
    "            print(\"* \",end=\"\")\n",
    "        else:\n",
    "            print(\" \",end=\"\")\n",
    "    print()"
   ]
  },
  {
   "cell_type": "code",
   "execution_count": 4,
   "metadata": {},
   "outputs": [
    {
     "data": {
      "text/plain": [
       "'Binary representation of 97 is 1100001'"
      ]
     },
     "execution_count": 4,
     "metadata": {},
     "output_type": "execute_result"
    }
   ],
   "source": [
    "\"Binary representation of {0} is {0:b}\".format(97)                                #Convert to binary"
   ]
  },
  {
   "cell_type": "code",
   "execution_count": 10,
   "metadata": {},
   "outputs": [
    {
     "data": {
      "text/plain": [
       "'Octal representation of 14 is 16'"
      ]
     },
     "execution_count": 10,
     "metadata": {},
     "output_type": "execute_result"
    }
   ],
   "source": [
    "\"Octal representation of {0} is {0:o}\".format(14)                                 #Convert to octal"
   ]
  },
  {
   "cell_type": "code",
   "execution_count": 16,
   "metadata": {},
   "outputs": [
    {
     "data": {
      "text/plain": [
       "'Hexadecimal representation of 15 is f'"
      ]
     },
     "execution_count": 16,
     "metadata": {},
     "output_type": "execute_result"
    }
   ],
   "source": [
    "\"Hexadecimal representation of {0} is {0:x}\".format(15)                           #Convert to hexadecimal"
   ]
  },
  {
   "cell_type": "code",
   "execution_count": 20,
   "metadata": {},
   "outputs": [
    {
     "data": {
      "text/plain": [
       "'|butter     |        bread         |        ham|'"
      ]
     },
     "execution_count": 20,
     "metadata": {},
     "output_type": "execute_result"
    }
   ],
   "source": [
    "\"|{:<10} | {:^20} | {:>10}|\".format('butter','bread','ham')"
   ]
  },
  {
   "cell_type": "code",
   "execution_count": 21,
   "metadata": {},
   "outputs": [
    {
     "data": {
      "text/plain": [
       "'One third is :  0.33'"
      ]
     },
     "execution_count": 21,
     "metadata": {},
     "output_type": "execute_result"
    }
   ],
   "source": [
    "\"One third is : {0: .2f}\".format(1/3)"
   ]
  },
  {
   "cell_type": "code",
   "execution_count": 25,
   "metadata": {},
   "outputs": [
    {
     "data": {
      "text/plain": [
       "'One third is :  0.33333333333333331483'"
      ]
     },
     "execution_count": 25,
     "metadata": {},
     "output_type": "execute_result"
    }
   ],
   "source": [
    "\"One third is : {0: .20f}\".format(1/3)"
   ]
  },
  {
   "cell_type": "code",
   "execution_count": 37,
   "metadata": {},
   "outputs": [
    {
     "name": "stdout",
     "output_type": "stream",
     "text": [
      "What's there\n"
     ]
    }
   ],
   "source": [
    "print( \"What\\'s there\" )                                                    # to print apostofee "
   ]
  },
  {
   "cell_type": "markdown",
   "metadata": {},
   "source": [
    "# Dictionary"
   ]
  },
  {
   "cell_type": "code",
   "execution_count": 38,
   "metadata": {},
   "outputs": [
    {
     "data": {
      "text/plain": [
       "dict"
      ]
     },
     "execution_count": 38,
     "metadata": {},
     "output_type": "execute_result"
    }
   ],
   "source": [
    "mdict={}                                                                    # Method 1\n",
    "type(mdict)                                                     "
   ]
  },
  {
   "cell_type": "code",
   "execution_count": 39,
   "metadata": {},
   "outputs": [
    {
     "data": {
      "text/plain": [
       "dict"
      ]
     },
     "execution_count": 39,
     "metadata": {},
     "output_type": "execute_result"
    }
   ],
   "source": [
    "mdict=dict()                                                                # Method 2\n",
    "type(mdict)"
   ]
  },
  {
   "cell_type": "code",
   "execution_count": 40,
   "metadata": {},
   "outputs": [],
   "source": [
    "di= {1:'Ram',2:'Sohan',3:'Yogi'}"
   ]
  },
  {
   "cell_type": "code",
   "execution_count": 41,
   "metadata": {},
   "outputs": [
    {
     "data": {
      "text/plain": [
       "'Ram'"
      ]
     },
     "execution_count": 41,
     "metadata": {},
     "output_type": "execute_result"
    }
   ],
   "source": [
    "di[1]"
   ]
  },
  {
   "cell_type": "code",
   "execution_count": 42,
   "metadata": {},
   "outputs": [
    {
     "data": {
      "text/plain": [
       "'Sohan'"
      ]
     },
     "execution_count": 42,
     "metadata": {},
     "output_type": "execute_result"
    }
   ],
   "source": [
    "di[2]"
   ]
  },
  {
   "cell_type": "code",
   "execution_count": 47,
   "metadata": {},
   "outputs": [],
   "source": [
    "di[4]=\"Kamal\""
   ]
  },
  {
   "cell_type": "code",
   "execution_count": 48,
   "metadata": {},
   "outputs": [
    {
     "data": {
      "text/plain": [
       "{1: 'Ram', 2: 'Sohan', 3: 'Yogi', 4: 'Kamal'}"
      ]
     },
     "execution_count": 48,
     "metadata": {},
     "output_type": "execute_result"
    }
   ],
   "source": [
    "di"
   ]
  },
  {
   "cell_type": "code",
   "execution_count": 49,
   "metadata": {},
   "outputs": [],
   "source": [
    "di['Mohan']=99                                                              # Key is heterogeneous"
   ]
  },
  {
   "cell_type": "code",
   "execution_count": 50,
   "metadata": {},
   "outputs": [
    {
     "data": {
      "text/plain": [
       "{1: 'Ram', 2: 'Sohan', 3: 'Yogi', 4: 'Kamal', 'Mohan': 99}"
      ]
     },
     "execution_count": 50,
     "metadata": {},
     "output_type": "execute_result"
    }
   ],
   "source": [
    "di"
   ]
  },
  {
   "cell_type": "code",
   "execution_count": 52,
   "metadata": {},
   "outputs": [
    {
     "data": {
      "text/plain": [
       "99"
      ]
     },
     "execution_count": 52,
     "metadata": {},
     "output_type": "execute_result"
    }
   ],
   "source": [
    "di['Mohan']"
   ]
  },
  {
   "cell_type": "code",
   "execution_count": 57,
   "metadata": {},
   "outputs": [
    {
     "data": {
      "text/plain": [
       "'Sohan'"
      ]
     },
     "execution_count": 57,
     "metadata": {},
     "output_type": "execute_result"
    }
   ],
   "source": [
    "di.pop(2)"
   ]
  },
  {
   "cell_type": "code",
   "execution_count": 58,
   "metadata": {},
   "outputs": [
    {
     "data": {
      "text/plain": [
       "99"
      ]
     },
     "execution_count": 58,
     "metadata": {},
     "output_type": "execute_result"
    }
   ],
   "source": [
    "di.pop('Mohan')"
   ]
  },
  {
   "cell_type": "code",
   "execution_count": 59,
   "metadata": {},
   "outputs": [
    {
     "data": {
      "text/plain": [
       "{1: 'Ram', 3: 'Yogi', 4: 'Kamal'}"
      ]
     },
     "execution_count": 59,
     "metadata": {},
     "output_type": "execute_result"
    }
   ],
   "source": [
    "di"
   ]
  },
  {
   "cell_type": "code",
   "execution_count": 60,
   "metadata": {},
   "outputs": [],
   "source": [
    "del di[1]                                                                       # delete"
   ]
  },
  {
   "cell_type": "code",
   "execution_count": 61,
   "metadata": {},
   "outputs": [
    {
     "data": {
      "text/plain": [
       "{3: 'Yogi', 4: 'Kamal'}"
      ]
     },
     "execution_count": 61,
     "metadata": {},
     "output_type": "execute_result"
    }
   ],
   "source": [
    "di"
   ]
  },
  {
   "cell_type": "code",
   "execution_count": 62,
   "metadata": {},
   "outputs": [],
   "source": [
    "di['Kamal']=44"
   ]
  },
  {
   "cell_type": "code",
   "execution_count": 63,
   "metadata": {},
   "outputs": [],
   "source": [
    "di[1]='Rohan'"
   ]
  },
  {
   "cell_type": "code",
   "execution_count": 64,
   "metadata": {},
   "outputs": [
    {
     "data": {
      "text/plain": [
       "{3: 'Yogi', 4: 'Kamal', 'Kamal': 44, 1: 'Rohan'}"
      ]
     },
     "execution_count": 64,
     "metadata": {},
     "output_type": "execute_result"
    }
   ],
   "source": [
    "di"
   ]
  },
  {
   "cell_type": "code",
   "execution_count": 65,
   "metadata": {},
   "outputs": [
    {
     "data": {
      "text/plain": [
       "(1, 'Rohan')"
      ]
     },
     "execution_count": 65,
     "metadata": {},
     "output_type": "execute_result"
    }
   ],
   "source": [
    "di.popitem()                                                                   # Deletes the last element and returns it"
   ]
  },
  {
   "cell_type": "code",
   "execution_count": 66,
   "metadata": {},
   "outputs": [],
   "source": [
    "di.clear()"
   ]
  },
  {
   "cell_type": "code",
   "execution_count": 67,
   "metadata": {},
   "outputs": [
    {
     "data": {
      "text/plain": [
       "{}"
      ]
     },
     "execution_count": 67,
     "metadata": {},
     "output_type": "execute_result"
    }
   ],
   "source": [
    "di"
   ]
  },
  {
   "cell_type": "code",
   "execution_count": 80,
   "metadata": {},
   "outputs": [],
   "source": [
    "di={'Ram':[33,44,80],'Mohan':[66,67,87],'Rohan':[77,89,88]}"
   ]
  },
  {
   "cell_type": "code",
   "execution_count": 81,
   "metadata": {},
   "outputs": [
    {
     "data": {
      "text/plain": [
       "{'Ram': [33, 44, 80], 'Mohan': [66, 67, 87], 'Rohan': [77, 89, 88]}"
      ]
     },
     "execution_count": 81,
     "metadata": {},
     "output_type": "execute_result"
    }
   ],
   "source": [
    "di"
   ]
  },
  {
   "cell_type": "code",
   "execution_count": 74,
   "metadata": {},
   "outputs": [
    {
     "data": {
      "text/plain": [
       "'Make a program\\n1.Add record\\n2.Show All\\n3.Search\\n4.Update\\n5.Delete'"
      ]
     },
     "execution_count": 74,
     "metadata": {},
     "output_type": "execute_result"
    }
   ],
   "source": [
    "'''Make a program to\n",
    "1.Add record\n",
    "2.Show All\n",
    "3.Search\n",
    "4.Update\n",
    "5.Delete\n",
    "6.Exit\n",
    "Enter your Choice'''\n",
    "# Also find the percentage of marks obtained by the student"
   ]
  },
  {
   "cell_type": "code",
   "execution_count": 10,
   "metadata": {},
   "outputs": [
    {
     "name": "stdout",
     "output_type": "stream",
     "text": [
      "1. Add record\n",
      "2. Show record\n",
      "3. Search record\n",
      "4. Update Record\n",
      "5. Delete record\n",
      "6  Find Percentage\n",
      "7 Exit\n",
      "Enter the number6\n",
      "Enter the person you want to find percentage\n",
      "NoneRam\n",
      "52.333333333333336\n"
     ]
    }
   ],
   "source": [
    "di={'Ram':[33,44,80],'Mohan':[66,67,87],'Rohan':[77,89,88]}\n",
    "print('1. Add record')\n",
    "print('2. Show record')\n",
    "print('3. Search record')\n",
    "print('4. Update Record')\n",
    "print('5. Delete record')\n",
    "print('6  Find Percentage')\n",
    "print('7 Exit')\n",
    "get=int(input(\"Enter the number\"))\n",
    "if(get==1):\n",
    "    i=input(\"Enter the key to be stored\")\n",
    "    j=input(\"Enter the value\")\n",
    "    di[i]=j\n",
    "    print(di)\n",
    "elif(get==2):\n",
    "    print(di)\n",
    "elif(get==3):\n",
    "    print(di)\n",
    "    i=input(\"enter the index\")\n",
    "    print(di[i])\n",
    "elif(get==4):\n",
    "    print(di)\n",
    "    i=input(\"enter the key to be updated\")\n",
    "    j=input(\"Enter the updated value\")\n",
    "    di[i]=j\n",
    "    print(di)\n",
    "elif(get==5):\n",
    "    print(di)\n",
    "    i=input(\"Enter the key to be deleted\")\n",
    "    di.pop(i)\n",
    "    print(di)\n",
    "elif(get==7):\n",
    "    print('Exit')\n",
    "elif(get==6):\n",
    "    student=input(print('Enter the person you want to find percentage'))\n",
    "    for x in di:\n",
    "        if(x==student):\n",
    "            print((di[student][0]+ di[student][1] + di[student][2])/3)\n",
    "        \n",
    "    "
   ]
  },
  {
   "cell_type": "code",
   "execution_count": 4,
   "metadata": {},
   "outputs": [
    {
     "name": "stdout",
     "output_type": "stream",
     "text": [
      "Ram\n",
      "Mohan\n",
      "Rohan\n"
     ]
    }
   ],
   "source": [
    "di={'Ram':[33,44,80],'Mohan':[66,67,87],'Rohan':[77,89,88]}\n",
    "for x in di:\n",
    "    print(x)"
   ]
  },
  {
   "cell_type": "code",
   "execution_count": 14,
   "metadata": {},
   "outputs": [
    {
     "data": {
      "text/plain": [
       "33"
      ]
     },
     "execution_count": 14,
     "metadata": {},
     "output_type": "execute_result"
    }
   ],
   "source": [
    "di['Ram'][0]"
   ]
  },
  {
   "cell_type": "markdown",
   "metadata": {},
   "source": [
    "# Make a program with Student name ,subject_name and marks"
   ]
  },
  {
   "cell_type": "code",
   "execution_count": 12,
   "metadata": {},
   "outputs": [],
   "source": [
    "dict={}"
   ]
  },
  {
   "cell_type": "code",
   "execution_count": 3,
   "metadata": {},
   "outputs": [],
   "source": [
    "dict={'Kamal':['Maths',70],'Aditya':[\"Maths\",33],'Sourabh':[\"Maths\",99]}"
   ]
  },
  {
   "cell_type": "code",
   "execution_count": 4,
   "metadata": {},
   "outputs": [
    {
     "data": {
      "text/plain": [
       "{'Kamal': ['Maths', 70], 'Aditya': ['Maths', 33], 'Sourabh': ['Maths', 99]}"
      ]
     },
     "execution_count": 4,
     "metadata": {},
     "output_type": "execute_result"
    }
   ],
   "source": [
    "dict"
   ]
  },
  {
   "cell_type": "code",
   "execution_count": 23,
   "metadata": {},
   "outputs": [
    {
     "name": "stdout",
     "output_type": "stream",
     "text": [
      "Enter name of studentKamal\n",
      "Subject Maths ,Marks  70\n"
     ]
    }
   ],
   "source": [
    "name=(input('Enter name of student'))\n",
    "print(\"Subject\" ,dict[name][0],\",Marks \",dict[name][1])"
   ]
  },
  {
   "cell_type": "markdown",
   "metadata": {},
   "source": [
    "# Sir's Method"
   ]
  },
  {
   "cell_type": "code",
   "execution_count": 24,
   "metadata": {},
   "outputs": [],
   "source": [
    "di = {'Ram':{'Physics':56,'Chemistry':54,'Maths':67}}"
   ]
  },
  {
   "cell_type": "code",
   "execution_count": 28,
   "metadata": {},
   "outputs": [
    {
     "name": "stdout",
     "output_type": "stream",
     "text": [
      "Enter Namekamal\n",
      "Enter Subjectphy\n",
      "Enter Marks77\n",
      "Enter Subjectchem\n",
      "Enter Marks88\n",
      "Enter Subjectmaths\n",
      "Enter Marks77\n"
     ]
    },
    {
     "data": {
      "text/plain": [
       "{'kamal': {'phy': 77, 'chem': 88, 'maths': 77}}"
      ]
     },
     "execution_count": 28,
     "metadata": {},
     "output_type": "execute_result"
    }
   ],
   "source": [
    "di={}\n",
    "sdi={}\n",
    "name=input('Enter Name')\n",
    "subname=input('Enter Subject')\n",
    "pmarks=(int)(input('Enter Marks'))\n",
    "subname1=input('Enter Subject')\n",
    "cmarks=(int)(input('Enter Marks'))\n",
    "subname2=input('Enter Subject')\n",
    "mmarks=(int)(input('Enter Marks'))\n",
    "sdi[subname]=pmarks\n",
    "sdi[subname1]=cmarks\n",
    "sdi[subname2]=mmarks\n",
    "di[name]=sdi\n",
    "di"
   ]
  },
  {
   "cell_type": "code",
   "execution_count": null,
   "metadata": {},
   "outputs": [],
   "source": [
    "'''Question 1 : We have a dictionary.....\n",
    "            Names are the keys.....\n",
    "            sort according to names without using any method\n",
    "Question 2 : In list we have name....\n",
    "            sort using merge sort....\n",
    "Question 3(optional) : Create Balanced Tree in python'''"
   ]
  },
  {
   "cell_type": "code",
   "execution_count": 5,
   "metadata": {},
   "outputs": [],
   "source": [
    "di={'Ram':80,'Mohan':87,'Sohan':88}"
   ]
  },
  {
   "cell_type": "code",
   "execution_count": 6,
   "metadata": {},
   "outputs": [
    {
     "data": {
      "text/plain": [
       "{'Ram': 80, 'Mohan': 87, 'Sohan': 88}"
      ]
     },
     "execution_count": 6,
     "metadata": {},
     "output_type": "execute_result"
    }
   ],
   "source": [
    "di"
   ]
  },
  {
   "cell_type": "code",
   "execution_count": 7,
   "metadata": {},
   "outputs": [],
   "source": [
    "li=di.keys()"
   ]
  },
  {
   "cell_type": "code",
   "execution_count": 8,
   "metadata": {},
   "outputs": [
    {
     "data": {
      "text/plain": [
       "dict_keys(['Ram', 'Mohan', 'Sohan'])"
      ]
     },
     "execution_count": 8,
     "metadata": {},
     "output_type": "execute_result"
    }
   ],
   "source": [
    "li"
   ]
  },
  {
   "cell_type": "code",
   "execution_count": 9,
   "metadata": {},
   "outputs": [
    {
     "name": "stdout",
     "output_type": "stream",
     "text": [
      "R\n",
      "M\n",
      "S\n"
     ]
    }
   ],
   "source": [
    "for x in di:\n",
    "    print(x[0])"
   ]
  },
  {
   "cell_type": "code",
   "execution_count": 13,
   "metadata": {},
   "outputs": [
    {
     "data": {
      "text/plain": [
       "{'Ram': 80, 'Mohan': 87, 'Sohan': 88}"
      ]
     },
     "execution_count": 13,
     "metadata": {},
     "output_type": "execute_result"
    }
   ],
   "source": [
    "di"
   ]
  },
  {
   "cell_type": "markdown",
   "metadata": {},
   "source": [
    "# January 31"
   ]
  },
  {
   "cell_type": "code",
   "execution_count": 3,
   "metadata": {},
   "outputs": [],
   "source": [
    "#Program ----\n",
    "#Add Family Hierarchy"
   ]
  },
  {
   "cell_type": "code",
   "execution_count": 13,
   "metadata": {},
   "outputs": [
    {
     "name": "stdout",
     "output_type": "stream",
     "text": [
      "Family MemberGGf\n",
      "Family Membergf\n",
      "Family Memberf\n",
      "Family Memberme\n",
      "Family Memberson\n",
      "{'GGf': 0, 'gf': 1, 'f': 2, 'me': 3, 'son': 4}\n"
     ]
    }
   ],
   "source": [
    "di={}\n",
    "for x in range(5):\n",
    "\t\t\tm=(input('Family Member'))\n",
    "\t\t\tdi[m]=x\n",
    "            \n",
    "print(di)\n"
   ]
  },
  {
   "cell_type": "code",
   "execution_count": 8,
   "metadata": {},
   "outputs": [],
   "source": [
    "di.clear()"
   ]
  },
  {
   "cell_type": "code",
   "execution_count": 9,
   "metadata": {},
   "outputs": [
    {
     "data": {
      "text/plain": [
       "[]"
      ]
     },
     "execution_count": 9,
     "metadata": {},
     "output_type": "execute_result"
    }
   ],
   "source": [
    "di"
   ]
  },
  {
   "cell_type": "code",
   "execution_count": 24,
   "metadata": {},
   "outputs": [
    {
     "name": "stdout",
     "output_type": "stream",
     "text": [
      "7\n"
     ]
    }
   ],
   "source": [
    "nli = [12,13,[23,24,[1,2,[6,7,8],3,4],25,78],99,88]                                #Nested List\n",
    "print(nli[2][2][2][1]) "
   ]
  },
  {
   "cell_type": "code",
   "execution_count": 2,
   "metadata": {},
   "outputs": [
    {
     "name": "stdout",
     "output_type": "stream",
     "text": [
      "Enter34\n",
      "[12, 13, [23, 24, [1, 2, [6, 7, 8, 34], 3, 4], 25, 78], 99, 88]\n"
     ]
    }
   ],
   "source": [
    "x=(int)(input('Enter'))\n",
    "nli[2][2][2].append(x)\n",
    "print(nli)"
   ]
  },
  {
   "cell_type": "code",
   "execution_count": null,
   "metadata": {},
   "outputs": [],
   "source": []
  }
 ],
 "metadata": {
  "kernelspec": {
   "display_name": "Python 3",
   "language": "python",
   "name": "python3"
  },
  "language_info": {
   "codemirror_mode": {
    "name": "ipython",
    "version": 3
   },
   "file_extension": ".py",
   "mimetype": "text/x-python",
   "name": "python",
   "nbconvert_exporter": "python",
   "pygments_lexer": "ipython3",
   "version": "3.6.5"
  }
 },
 "nbformat": 4,
 "nbformat_minor": 2
}

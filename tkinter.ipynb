{
 "cells": [
  {
   "cell_type": "markdown",
   "metadata": {},
   "source": [
    "# tkinter"
   ]
  },
  {
   "cell_type": "code",
   "execution_count": 2,
   "metadata": {},
   "outputs": [],
   "source": [
    "# import tkinter\n",
    "# from tkinter import*\n",
    "# tkinter is used for designing purposes"
   ]
  },
  {
   "cell_type": "code",
   "execution_count": 3,
   "metadata": {},
   "outputs": [],
   "source": [
    "from tkinter import*\n",
    "class Abc(Frame):\n",
    "    def __init__(self,obj):\n",
    "        super().__init__(obj)\n",
    "        \n",
    "root=Tk()\n",
    "ob=Abc(root)\n",
    "root.title('TCS')\n",
    "root.geometry('300x200')\n",
    "root.mainloop()                   #shows the frame"
   ]
  },
  {
   "cell_type": "code",
   "execution_count": null,
   "metadata": {},
   "outputs": [],
   "source": [
    "from tkinter import*\n",
    "class Abc(Frame):\n",
    "    def __init__(self,obj):\n",
    "        super().__init__(obj)\n",
    "        \n",
    "        self.b1=Button(self,text='Ok',bg='red',fg='blue')       # using for button\n",
    "        self.b1.grid(row=1,column=0)\n",
    "        self.pack()\n",
    "root=Tk()\n",
    "ob=Abc(root)\n",
    "root.title('TCS')\n",
    "root.geometry('300x200')\n",
    "root.mainloop()                   #shows the frame"
   ]
  },
  {
   "cell_type": "code",
   "execution_count": 1,
   "metadata": {},
   "outputs": [],
   "source": [
    "from tkinter import*\n",
    "from tkinter import messagebox as tm\n",
    "class Abc(Frame):\n",
    "    def __init__(self,obj):\n",
    "        super().__init__(obj)\n",
    "        \n",
    "        self.b1=Button(self,text='Ok',bg='red',fg='blue',command=self.show)       # for button\n",
    "        self.b1.grid(row=1,column=0)\n",
    "        self.pack()\n",
    "    def show(self):\n",
    "        #messagebox.showinfo\n",
    "        tm.showinfo('Info','Welcome in Python')\n",
    "        \n",
    "root=Tk()\n",
    "ob=Abc(root)\n",
    "root.title('TCS')\n",
    "root.state('zoomed')\n",
    "#root.geometry('300x200')\n",
    "root.mainloop()                   #shows the frame"
   ]
  },
  {
   "cell_type": "code",
   "execution_count": null,
   "metadata": {},
   "outputs": [],
   "source": [
    "from tkinter import*\n",
    "class login(Frame):\n",
    "    def __init__(self,master):\n",
    "        super().init__(master)\n",
    "        \n",
    "        self.l1=Label(self,text='User Name')\n",
    "        self.t1=Entry(self)\n",
    "        self.l2=Label(self,text='Password')\n",
    "        self.t2=Entry(self,show='*')\n",
    "        self.b1=Button(self,text='Login')\n",
    "        \n",
    "        self.l1.grid(row=0,column=0)\n",
    "        self.t1.grid(row=0,column=1)\n",
    "        \n",
    "        self.l1.grid(row=1,column=0)\n",
    "        self.t1.grid(row=1,column=1)\n",
    "        \n",
    "        self.b1.grid(columnspan)=2\n",
    "        \n",
    "        self.pack()\n",
    "root=Tk()\n",
    "log=login(root)\n",
    "root.title('Login')\n",
    "root.geometry('200x160')\n",
    "root.mainloop()"
   ]
  },
  {
   "cell_type": "code",
   "execution_count": 1,
   "metadata": {},
   "outputs": [],
   "source": [
    "from tkinter import*\n",
    "class mm(Frame):\n",
    "    def __init__(self,master):\n",
    "        super().__init__(master)\n",
    "        \n",
    "        self.menubar=Menu(self)\n",
    "        self.filemenu=Menu(self.menubar,tearoff=0)\n",
    "        self.filemenu.add_command(label='New')\n",
    "        self.filemenu.add_command(label='Open')\n",
    "        self.filemenu.add_separator()\n",
    "        self.filemenu.add_command(label='Exit',command=self.close)\n",
    "        self.menubar.add_cascade(label='File',underline=0,menu=self.filemenu)\n",
    "        \n",
    "        self.editmenu=Menu(self.menubar,tearoff=0)\n",
    "        self.editmenu.add_command(label='Cut')\n",
    "        self.editmenu.add_command(label='Copy')\n",
    "        self.editmenu.add_separator()\n",
    "        self.editmenu.add_command(label='Paste')\n",
    "        self.menubar.add_cascade(label='Edit',underline=0,menu=self.editmenu)\n",
    "    def close(self):\n",
    "        exit(0)\n",
    "root=Tk()\n",
    "my=mm(root)\n",
    "root.config(menu=my.menubar)\n",
    "root.title('My Menu')\n",
    "root.state('zoomed')\n",
    "root.mainloop()"
   ]
  },
  {
   "cell_type": "code",
   "execution_count": 2,
   "metadata": {},
   "outputs": [],
   "source": [
    "from tkinter import*\n",
    "\n",
    "class Nested(Frame):\n",
    "    def __init__(self,m):\n",
    "        super().__init__(m)\n",
    "        \n",
    "        self.menubar=Menu(self,tearoff=0)\n",
    "        self.filemenu=Menu(self,tearoff=0)\n",
    "        self.rfile=Menu(self,tearoff=0)\n",
    "        \n",
    "        self.menubar.add_cascade(label='File',menu=self.filemenu)\n",
    "        self.filemenu.add_cascade(label='Open',menu=self.rfile)\n",
    "        self.filemenu.add_cascade(label='New')\n",
    "        for name in ('file1','file2','file3'):\n",
    "            self.rfile.add_command(label=name)\n",
    "        self.pack()\n",
    "        \n",
    "root=Tk()\n",
    "obj=Nested(root)\n",
    "root.config(menu=obj.menubar)\n",
    "root.mainloop()"
   ]
  },
  {
   "cell_type": "code",
   "execution_count": null,
   "metadata": {},
   "outputs": [],
   "source": [
    "pip install pillow\n",
    "pil"
   ]
  },
  {
   "cell_type": "code",
   "execution_count": null,
   "metadata": {},
   "outputs": [],
   "source": [
    "#These two lines are important\n",
    "# Here bd is border\n",
    "\n",
    "self.lblpass=Label(self,font=('algerian',15,'bold'),text='Password',fg='Steel Blue',bd=10)\n",
    "\n",
    "self.txtid=Entry(self,font=('arial',16,'bold'),bd=10,insertwidth=4,fg='red',bg='powder blue',justify='right')"
   ]
  },
  {
   "cell_type": "markdown",
   "metadata": {},
   "source": [
    "# Home practice"
   ]
  },
  {
   "cell_type": "code",
   "execution_count": 3,
   "metadata": {},
   "outputs": [],
   "source": [
    "from tkinter import *\n",
    "\n",
    "root = Tk()\n",
    "\n",
    "myContainer1 = Frame(root)  ### (1)\n",
    "myContainer1.pack()         ### (2)\n",
    "\n",
    "root.mainloop()  "
   ]
  },
  {
   "cell_type": "code",
   "execution_count": 5,
   "metadata": {},
   "outputs": [],
   "source": [
    "from tkinter import *\n",
    "\n",
    "root = Tk()\n",
    " \n",
    "myContainer1 = Frame(root)\n",
    "myContainer1.pack()\n",
    "\n",
    "button1 = Button(myContainer1)      ### (1)\n",
    "button1[\"text\"]= \"Hello, World!\"    ### (2)\n",
    "button1[\"background\"] = \"green\"     ### (3)\n",
    "button1.pack()\t                    ### (4)\n",
    "\n",
    "root.mainloop()"
   ]
  },
  {
   "cell_type": "code",
   "execution_count": 7,
   "metadata": {},
   "outputs": [],
   "source": [
    "from tkinter import *\n",
    "\n",
    "root = Tk()\n",
    " \n",
    "myContainer1 = Frame(root)\n",
    "myContainer1.pack()\n",
    "\n",
    "button1 = Button(myContainer1)      ### (1)\n",
    "button1[\"text\"]= \"Hello, World!\"    ### (2)\n",
    "button1[\"background\"] = \"red\"     ### (3)\n",
    "button1.pack()\t                    ### (4)\n",
    "\n",
    "root.mainloop()"
   ]
  },
  {
   "cell_type": "code",
   "execution_count": 1,
   "metadata": {},
   "outputs": [],
   "source": [
    "# Different ways to define a widget\n",
    "from tkinter import *\n",
    "\n",
    "class MyApp:\n",
    "\tdef __init__(self, parent):\n",
    "\t\tself.myContainer1 = Frame(parent)\n",
    "\t\tself.myContainer1.pack()\n",
    "\t\t\n",
    "\t\tself.button1 = Button(self.myContainer1)\n",
    "\t\tself.button1[\"text\"] = \"Hello, World!\"   ### (1)\n",
    "\t\tself.button1[\"background\"] = \"green\"     ### (1) \n",
    "\t\tself.button1.pack()\t\n",
    "\n",
    "\t\tself.button2 = Button(self.myContainer1)\n",
    "\t\tself.button2.configure(text=\"Off to join the circus!\") ### (2)\n",
    "\t\tself.button2.configure(background=\"tan\")               ### (2)\n",
    "\t\tself.button2.pack()\t\n",
    "\t\t\n",
    "\n",
    "\t\tself.button3 = Button(self.myContainer1)\n",
    "\t\tself.button3.configure(text=\"Join me?\", background=\"cyan\")  ### (3)\n",
    "\t\tself.button3.pack()\t\n",
    "\t\t\t\n",
    "\t\tself.button4 = Button(self.myContainer1, text=\"Goodbye!\", background=\"red\") ### (4)\n",
    "\t\tself.button4.pack()\t\n",
    "\t\n",
    "\t\t\n",
    "root = Tk()\n",
    "myapp = MyApp(root)\n",
    "root.mainloop()"
   ]
  },
  {
   "cell_type": "code",
   "execution_count": 2,
   "metadata": {},
   "outputs": [],
   "source": [
    "from tkinter import *\n",
    "\n",
    "class MyApp:\n",
    "\tdef __init__(self, parent):\n",
    "\t\tself.myContainer1 = Frame(parent)\n",
    "\t\tself.myContainer1.pack()\n",
    "\t\t\n",
    "\t\tself.button1 = Button(self.myContainer1)\n",
    "\t\tself.button1[\"text\"]= \"Hello, World!\"\n",
    "\t\tself.button1[\"background\"] = \"green\"\n",
    "\t\tself.button1.pack(side=LEFT)\t### (1)\n",
    "\n",
    "\n",
    "\t\tself.button2 = Button(self.myContainer1)\n",
    "\t\tself.button2.configure(text=\"Off to join the circus!\")  \n",
    "\t\tself.button2.configure(background=\"tan\")               \n",
    "\t\tself.button2.pack(side=LEFT)\t ### (2)\n",
    "\t\t\n",
    "\n",
    "\t\tself.button3 = Button(self.myContainer1)\n",
    "\t\tself.button3.configure(text=\"Join me?\", background=\"cyan\")  \n",
    "\t\tself.button3.pack(side=LEFT)\t  ### (3)\n",
    "\t\t\t\n",
    "\t\tself.button4 = Button(self.myContainer1, text=\"Goodbye!\", background=\"red\") \n",
    "\t\tself.button4.pack(side=LEFT)\t  ### (4)\n",
    "\t\n",
    "\t\t\n",
    "root = Tk()\n",
    "myapp = MyApp(root)\n",
    "root.mainloop()"
   ]
  },
  {
   "cell_type": "code",
   "execution_count": null,
   "metadata": {},
   "outputs": [],
   "source": []
  }
 ],
 "metadata": {
  "kernelspec": {
   "display_name": "Python 3",
   "language": "python",
   "name": "python3"
  },
  "language_info": {
   "codemirror_mode": {
    "name": "ipython",
    "version": 3
   },
   "file_extension": ".py",
   "mimetype": "text/x-python",
   "name": "python",
   "nbconvert_exporter": "python",
   "pygments_lexer": "ipython3",
   "version": "3.6.5"
  }
 },
 "nbformat": 4,
 "nbformat_minor": 2
}

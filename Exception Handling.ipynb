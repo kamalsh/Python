{
 "cells": [
  {
   "cell_type": "code",
   "execution_count": null,
   "metadata": {},
   "outputs": [],
   "source": [
    "'''Exception\n",
    "\n",
    "try\n",
    "except\n",
    "finally\n",
    "\n",
    "Rules\n",
    "1 Try cannot be alone\n",
    "2 Try always with except of finally or both\n",
    "3 exception are of two types --A Inbuild\n",
    "                               B User Defined Exception\n",
    "'''\n"
   ]
  },
  {
   "cell_type": "code",
   "execution_count": null,
   "metadata": {},
   "outputs": [],
   "source": [
    "'''Exception Names -\n",
    "1. Zero Divide Error\n",
    "2.Assertion Error---Raised when assert statement failes\n",
    "3.Attribute Error----Raised when attribute assignment or reference failes\n",
    "4.EOF Error---Raised when input() functions hit end-of-file condition\n",
    "5.Floating point Error---Raised when a floating point operation fails\n",
    "6.GeneratorExit----Raise when a generator's close() method is called\n",
    "7.Import Error---Raised when imported module is not found\n",
    "8.Index Error---Raised whwn index of sequence is out of range\n",
    "9.KeyError---Raised when a key is not found in the dictionary\n",
    "10.KeyboardInterrupt---Raise when the user hits interrupt key(Ctrl+c or delete)\n",
    "11.MemoryError---Raised when an operation runs out of memory\n",
    "12.Name Error--Raised when a variable is not found in local or global scope\n",
    "13.ZeroDivideError\n",
    "14.Value Error---Raised when a function gets argument of correct type but improper value\n",
    "15.Indentation error\n",
    "etc.'''"
   ]
  },
  {
   "cell_type": "code",
   "execution_count": 5,
   "metadata": {},
   "outputs": [
    {
     "name": "stdout",
     "output_type": "stream",
     "text": [
      "Enter4\n",
      "Enter4\n",
      "Output 1\n",
      "Still I am alive\n"
     ]
    }
   ],
   "source": [
    "i=(int)(input('Enter'))\n",
    "j=(int)(input('Enter'))\n",
    "k=i//j\n",
    "print('Output',k)\n",
    "print('Still I am alive')"
   ]
  },
  {
   "cell_type": "code",
   "execution_count": 2,
   "metadata": {},
   "outputs": [
    {
     "name": "stdout",
     "output_type": "stream",
     "text": [
      "Enter5\n",
      "Enter0\n",
      "integer division or modulo by zero\n",
      "Still I am alive\n"
     ]
    }
   ],
   "source": [
    "i=(int)(input('Enter'))\n",
    "j=(int)(input('Enter'))\n",
    "try:\n",
    "    k=i//j\n",
    "    print('Output',k)\n",
    "except ZeroDivisionError as ze:\n",
    "    print(ze)\n",
    "print('Still I am alive')"
   ]
  },
  {
   "cell_type": "code",
   "execution_count": 6,
   "metadata": {},
   "outputs": [
    {
     "name": "stdout",
     "output_type": "stream",
     "text": [
      "Enter4\n",
      "Enter0\n",
      "integer division or modulo by zero\n",
      "Must be printed\n",
      "Still I am alive\n"
     ]
    }
   ],
   "source": [
    "i=(int)(input('Enter'))\n",
    "j=(int)(input('Enter'))\n",
    "try:\n",
    "    k=i//j\n",
    "    print('Output',k)\n",
    "except ZeroDivisionError as ze:\n",
    "    print(ze)\n",
    "finally:\n",
    "    print('Must be printed')    #also can be used for password protection i.e. Suppose we get an \n",
    "                                #exception,Then in finally we can make the password variable as null\n",
    "                                #Before anyone can access it\n",
    "print('Still I am alive')"
   ]
  },
  {
   "cell_type": "code",
   "execution_count": 6,
   "metadata": {},
   "outputs": [
    {
     "name": "stdout",
     "output_type": "stream",
     "text": [
      "Enter a positive integer :-32\n",
      "That is not a positive number!\n"
     ]
    }
   ],
   "source": [
    "try:\n",
    "    a=int(input('Enter a positive integer :'))\n",
    "    if a<=0:\n",
    "        raise ValueError((\"That is not a positive number!\"))\n",
    "except ValueError as ke:\n",
    "    print(ke)"
   ]
  },
  {
   "cell_type": "code",
   "execution_count": 9,
   "metadata": {},
   "outputs": [
    {
     "name": "stdout",
     "output_type": "stream",
     "text": [
      "Enter9\n",
      "Enter0\n",
      "Number is Divided by Zero\n"
     ]
    }
   ],
   "source": [
    "i=(int)(input('Enter'))\n",
    "j=(int)(input('Enter'))\n",
    "try:\n",
    "    if j==0:\n",
    "        raise ZeroDivisionError(\"Number is Divided by Zero\") #We are changing the message here\n",
    "    k=i//j\n",
    "    print('Output',k)\n",
    "except ZeroDivisionError as z:\n",
    "    print(z)"
   ]
  },
  {
   "cell_type": "code",
   "execution_count": null,
   "metadata": {},
   "outputs": [],
   "source": [
    "# Make a program"
   ]
  }
 ],
 "metadata": {
  "kernelspec": {
   "display_name": "Python 3",
   "language": "python",
   "name": "python3"
  },
  "language_info": {
   "codemirror_mode": {
    "name": "ipython",
    "version": 3
   },
   "file_extension": ".py",
   "mimetype": "text/x-python",
   "name": "python",
   "nbconvert_exporter": "python",
   "pygments_lexer": "ipython3",
   "version": "3.6.5"
  }
 },
 "nbformat": 4,
 "nbformat_minor": 2
}

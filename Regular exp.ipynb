{
 "cells": [
  {
   "cell_type": "code",
   "execution_count": 2,
   "metadata": {},
   "outputs": [
    {
     "name": "stdout",
     "output_type": "stream",
     "text": [
      "today is holiday but still we are in office\n"
     ]
    }
   ],
   "source": [
    "import string\n",
    "mes = \"today is. holiday!!! but still we are in office?\"\n",
    "#print(string.punctuation)\n",
    "no_puch = [x for x in mes if x not in string.punctuation]\n",
    "print(''.join(no_puch))"
   ]
  },
  {
   "cell_type": "code",
   "execution_count": 3,
   "metadata": {},
   "outputs": [
    {
     "name": "stdout",
     "output_type": "stream",
     "text": [
      "!\"#$%&'()*+,-./:;<=>?@[\\]^_`{|}~\n",
      "today is holiday but still we are in office\n"
     ]
    }
   ],
   "source": [
    "import string\n",
    "mes = \"today is. holiday!!! but still we are in office?\"\n",
    "print(string.punctuation)\n",
    "no_puch = [x for x in mes if x not in string.punctuation]\n",
    "print(''.join(no_puch))"
   ]
  },
  {
   "cell_type": "code",
   "execution_count": 1,
   "metadata": {},
   "outputs": [
    {
     "data": {
      "text/plain": [
       "'Regular expression\\nWe have 4 methods :-\\n1 Pattern\\n2 Max\\n3 Sub\\n4 Find\\n'"
      ]
     },
     "execution_count": 1,
     "metadata": {},
     "output_type": "execute_result"
    }
   ],
   "source": [
    "'''Regular expression\n",
    "We have 4 methods :-\n",
    "1 Pattern\n",
    "2 Match\n",
    "3 Sub\n",
    "4 Find\n",
    "'''"
   ]
  },
  {
   "cell_type": "code",
   "execution_count": 2,
   "metadata": {},
   "outputs": [
    {
     "data": {
      "text/plain": [
       "'The most common uses of regular expressions are ::\\n        1Search a string(search and match)\\n        2 Finding a string(findall)\\n        3 Break string into a sub string(split)\\n        4 Replace part of a string(sub)\\n'"
      ]
     },
     "execution_count": 2,
     "metadata": {},
     "output_type": "execute_result"
    }
   ],
   "source": [
    "'''The most common uses of regular expressions are ::\n",
    "        1Search a string(search and match)\n",
    "        2 Finding a string(findall)\n",
    "        3 Break string into a sub string(split)\n",
    "        4 Replace part of a string(sub)\n",
    "'''        "
   ]
  },
  {
   "cell_type": "code",
   "execution_count": 3,
   "metadata": {},
   "outputs": [
    {
     "name": "stdout",
     "output_type": "stream",
     "text": [
      "Phone Num : 200.4-9a59-55\n",
      "Phone Num : .--# #    \n",
      "Phone Num :  2004959559\n"
     ]
    }
   ],
   "source": [
    "import re\n",
    "phone = \"200.4-9a59-55#9 # This is Phone Number\"\n",
    "\n",
    "#Delete Python-style comments\n",
    "num = re.sub('#.*$','',phone)\n",
    "print(\"Phone Num :\",num)\n",
    "\n",
    "num = re.sub('\\w',\"\",phone)\n",
    "print(\"Phone Num :\",num)\n",
    "\n",
    "#Remove anything other than digits\n",
    "num = re.sub('\\D',\"\",phone)\n",
    "print(\"Phone Num : \",num)"
   ]
  },
  {
   "cell_type": "code",
   "execution_count": null,
   "metadata": {},
   "outputs": [],
   "source": [
    "# Work to do\n",
    "import nltk\n",
    "nltk.download  3gbs\n",
    "\n",
    "\n",
    "app.twitter.com\n",
    "Then they will ask about 300 words\n",
    "developer.facebook.com"
   ]
  },
  {
   "cell_type": "code",
   "execution_count": 4,
   "metadata": {},
   "outputs": [
    {
     "name": "stdout",
     "output_type": "stream",
     "text": [
      "today is sunday but all are in class room.\n",
      "today\n",
      "sunday\n"
     ]
    }
   ],
   "source": [
    "import re\n",
    "message = 'today is sunday but all are in class room.'\n",
    "m=re.match( '(.*) is (.*?) .*',message)\n",
    "print(m.group(0))\n",
    "print(m.group(1))\n",
    "print(m.group(2))"
   ]
  },
  {
   "cell_type": "code",
   "execution_count": 5,
   "metadata": {},
   "outputs": [
    {
     "name": "stdout",
     "output_type": "stream",
     "text": [
      "search -->  dogs\n"
     ]
    }
   ],
   "source": [
    "import re\n",
    "line = \"Cats are smaller than dogs\";\n",
    "searchObj = re.search('dogs',line)\n",
    "if searchObj:\n",
    "    print(\"search --> \",searchObj.group())\n",
    "else:\n",
    "    print(\"Nothing found!!\")"
   ]
  },
  {
   "cell_type": "code",
   "execution_count": 9,
   "metadata": {},
   "outputs": [
    {
     "name": "stdout",
     "output_type": "stream",
     "text": [
      "Wow   Loved  this place \n"
     ]
    }
   ],
   "source": [
    "import re\n",
    "data = 'Wow...Loved? this place.'\n",
    "review =re.sub('[^a-zA-Z]',' ',data)\n",
    "print(review)\n",
    "\n"
   ]
  },
  {
   "cell_type": "code",
   "execution_count": 10,
   "metadata": {},
   "outputs": [
    {
     "name": "stdout",
     "output_type": "stream",
     "text": [
      "!\"#$%&'()*+,-./:;<=>?@[\\]^_`{|}~\n"
     ]
    }
   ],
   "source": [
    "import re\n",
    "import string\n",
    "s='Hello John!.. How are you?.. I am fine.'\n",
    "print(string.punctuation)\n",
    "a=string.punctuation\n"
   ]
  },
  {
   "cell_type": "code",
   "execution_count": 11,
   "metadata": {
    "scrolled": true
   },
   "outputs": [
    {
     "name": "stdout",
     "output_type": "stream",
     "text": [
      "['is', 'is']\n",
      "['is']\n"
     ]
    }
   ],
   "source": [
    "import re\n",
    "pattern=re.compile('is')\n",
    "result=pattern.findall('Haryana is a very good state .It is the place of many lgendary sportspersons')\n",
    "print(result)\n",
    "result2=pattern.findall('IIT is a very good Educational Institute in India ')\n",
    "print(result2)"
   ]
  },
  {
   "cell_type": "code",
   "execution_count": 14,
   "metadata": {},
   "outputs": [
    {
     "name": "stdout",
     "output_type": "stream",
     "text": [
      "No must be more than 20\n"
     ]
    }
   ],
   "source": [
    "class MyException(Exception):\n",
    "    def __init__(self,mes):\n",
    "        super().__init__(mes)         #Write this code in a  different file.Suppose file name is myexp.\n",
    "                                      # Then we write the line (from myexp import*)\n",
    "        \n",
    "\n",
    "x=10\n",
    "try:\n",
    "    if x<20:\n",
    "        raise MyException('No must be more than 20')\n",
    "except MyException as me:\n",
    "    print(me)"
   ]
  },
  {
   "cell_type": "code",
   "execution_count": 15,
   "metadata": {},
   "outputs": [],
   "source": [
    "# Lambda expression\n",
    "\n",
    "#lambda vari:exp\n",
    "\n",
    "y=lambda x:x**2"
   ]
  },
  {
   "cell_type": "code",
   "execution_count": 16,
   "metadata": {},
   "outputs": [
    {
     "data": {
      "text/plain": [
       "25"
      ]
     },
     "execution_count": 16,
     "metadata": {},
     "output_type": "execute_result"
    }
   ],
   "source": [
    "y(5)"
   ]
  },
  {
   "cell_type": "code",
   "execution_count": 17,
   "metadata": {},
   "outputs": [],
   "source": [
    "y=lambda x,y:x**y"
   ]
  },
  {
   "cell_type": "code",
   "execution_count": 18,
   "metadata": {},
   "outputs": [
    {
     "data": {
      "text/plain": [
       "3125"
      ]
     },
     "execution_count": 18,
     "metadata": {},
     "output_type": "execute_result"
    }
   ],
   "source": [
    "y(5,5)"
   ]
  },
  {
   "cell_type": "code",
   "execution_count": 20,
   "metadata": {},
   "outputs": [],
   "source": [
    "# Filter function\n",
    "\n",
    "my_list = [1,4,5,6,3,66,33,4]\n",
    "new_list = list(filter(lambda x: (x%2 == 0) , my_list))"
   ]
  },
  {
   "cell_type": "code",
   "execution_count": 21,
   "metadata": {},
   "outputs": [
    {
     "data": {
      "text/plain": [
       "[4, 6, 66, 4]"
      ]
     },
     "execution_count": 21,
     "metadata": {},
     "output_type": "execute_result"
    }
   ],
   "source": [
    "new_list"
   ]
  },
  {
   "cell_type": "code",
   "execution_count": 22,
   "metadata": {},
   "outputs": [],
   "source": [
    "# Map function\n",
    "\n",
    "my_list = [1,4,5,6,3,66,33,4]\n",
    "new_list = list(map(lambda x: (x%2 == 0) , my_list))"
   ]
  },
  {
   "cell_type": "code",
   "execution_count": 23,
   "metadata": {},
   "outputs": [
    {
     "data": {
      "text/plain": [
       "[False, True, False, True, False, True, False, True]"
      ]
     },
     "execution_count": 23,
     "metadata": {},
     "output_type": "execute_result"
    }
   ],
   "source": [
    "new_list"
   ]
  },
  {
   "cell_type": "code",
   "execution_count": null,
   "metadata": {},
   "outputs": [],
   "source": [
    "Tomorrow is data science day"
   ]
  }
 ],
 "metadata": {
  "kernelspec": {
   "display_name": "Python 3",
   "language": "python",
   "name": "python3"
  },
  "language_info": {
   "codemirror_mode": {
    "name": "ipython",
    "version": 3
   },
   "file_extension": ".py",
   "mimetype": "text/x-python",
   "name": "python",
   "nbconvert_exporter": "python",
   "pygments_lexer": "ipython3",
   "version": "3.6.5"
  }
 },
 "nbformat": 4,
 "nbformat_minor": 2
}

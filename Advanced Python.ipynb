{
 "cells": [
  {
   "cell_type": "code",
   "execution_count": null,
   "metadata": {},
   "outputs": [],
   "source": [
    "Advanced python:::\n",
    "\t1 Iterator--------\n",
    "\t\ta combination of two methods\n",
    "\t\t\t1 __iter__ :::creates loop\n",
    "\t\t\t\t\t2 __next__ :::moves loop\n",
    "\t\n",
    "\n",
    "\t2 Generator\n",
    "\t3 Closure\n",
    "    4 Decorator\n"
   ]
  },
  {
   "cell_type": "code",
   "execution_count": null,
   "metadata": {},
   "outputs": [],
   "source": [
    "li=[1,2,3,4,5,6,7]\n",
    "a=iter(li)"
   ]
  },
  {
   "cell_type": "code",
   "execution_count": null,
   "metadata": {},
   "outputs": [],
   "source": [
    "next(a)"
   ]
  },
  {
   "cell_type": "code",
   "execution_count": null,
   "metadata": {},
   "outputs": [],
   "source": [
    "next(a)"
   ]
  },
  {
   "cell_type": "code",
   "execution_count": null,
   "metadata": {},
   "outputs": [],
   "source": [
    "next(a)"
   ]
  },
  {
   "cell_type": "code",
   "execution_count": null,
   "metadata": {},
   "outputs": [],
   "source": [
    "next(a)"
   ]
  },
  {
   "cell_type": "code",
   "execution_count": null,
   "metadata": {},
   "outputs": [],
   "source": [
    "next(a)"
   ]
  },
  {
   "cell_type": "code",
   "execution_count": 3,
   "metadata": {},
   "outputs": [
    {
     "ename": "TypeError",
     "evalue": "iter() returned non-iterator of type 'power'",
     "output_type": "error",
     "traceback": [
      "\u001b[1;31m---------------------------------------------------------------------------\u001b[0m",
      "\u001b[1;31mTypeError\u001b[0m                                 Traceback (most recent call last)",
      "\u001b[1;32m<ipython-input-3-0c6a30159cf6>\u001b[0m in \u001b[0;36m<module>\u001b[1;34m()\u001b[0m\n\u001b[0;32m     13\u001b[0m             \u001b[1;32mraise\u001b[0m \u001b[0mStopIteration\u001b[0m\u001b[1;33m\u001b[0m\u001b[0m\n\u001b[0;32m     14\u001b[0m \u001b[0mob\u001b[0m\u001b[1;33m=\u001b[0m\u001b[0mpower\u001b[0m\u001b[1;33m(\u001b[0m\u001b[1;36m5\u001b[0m\u001b[1;33m)\u001b[0m\u001b[1;33m\u001b[0m\u001b[0m\n\u001b[1;32m---> 15\u001b[1;33m \u001b[0mobb\u001b[0m\u001b[1;33m=\u001b[0m\u001b[0miter\u001b[0m\u001b[1;33m(\u001b[0m\u001b[0mob\u001b[0m\u001b[1;33m)\u001b[0m\u001b[1;33m\u001b[0m\u001b[0m\n\u001b[0m\u001b[0;32m     16\u001b[0m \u001b[0mprint\u001b[0m\u001b[1;33m(\u001b[0m\u001b[0mnext\u001b[0m\u001b[1;33m(\u001b[0m\u001b[0mobb\u001b[0m\u001b[1;33m)\u001b[0m\u001b[1;33m)\u001b[0m\u001b[1;33m\u001b[0m\u001b[0m\n\u001b[0;32m     17\u001b[0m \u001b[0mprint\u001b[0m\u001b[1;33m(\u001b[0m\u001b[0mnext\u001b[0m\u001b[1;33m(\u001b[0m\u001b[0mobb\u001b[0m\u001b[1;33m)\u001b[0m\u001b[1;33m)\u001b[0m\u001b[1;33m\u001b[0m\u001b[0m\n",
      "\u001b[1;31mTypeError\u001b[0m: iter() returned non-iterator of type 'power'"
     ]
    }
   ],
   "source": [
    "class power:\n",
    "    def __init__(self,max=0):\n",
    "        self.max=max\n",
    "    def __iter__(self):\n",
    "        self.n = 0\n",
    "        return self\n",
    "    def __next_(self):\n",
    "        if self.n <= self.max:\n",
    "            result= 2* self.n\n",
    "            self.n +=1\n",
    "            return result\n",
    "        else:\n",
    "            raise StopIteration\n",
    "ob=power(5)\n",
    "obb=iter(ob)\n",
    "print(next(obb))\n",
    "print(next(obb))\n"
   ]
  },
  {
   "cell_type": "code",
   "execution_count": null,
   "metadata": {},
   "outputs": [],
   "source": [
    "#CLOSURE\n",
    "\n",
    "def welcome(msg):\n",
    "    def hello():\n",
    "        print(msg)\n",
    "print(welcome('Good Morning'))        "
   ]
  },
  {
   "cell_type": "code",
   "execution_count": 4,
   "metadata": {},
   "outputs": [
    {
     "name": "stdout",
     "output_type": "stream",
     "text": [
      "Good Morning\n",
      "None\n"
     ]
    }
   ],
   "source": [
    "def welcome(msg):\n",
    "    def hello():\n",
    "        print(msg)\n",
    "    hello()\n",
    "print(welcome('Good Morning'))    "
   ]
  },
  {
   "cell_type": "code",
   "execution_count": null,
   "metadata": {},
   "outputs": [],
   "source": [
    "def welcome(msg):\n",
    "    def hello():\n",
    "        print(msg)\n",
    "    return hello\n",
    "\n",
    "ob=welcome('Good Night')\n",
    "ob()"
   ]
  },
  {
   "cell_type": "code",
   "execution_count": 5,
   "metadata": {},
   "outputs": [
    {
     "name": "stdout",
     "output_type": "stream",
     "text": [
      "20\n"
     ]
    }
   ],
   "source": [
    "def calc(x):\n",
    "    def show(y):\n",
    "        k=x*y\n",
    "        return k\n",
    "    return show\n",
    "\n",
    "ob=calc(5)\n",
    "c=ob(4)\n",
    "print(c)\n"
   ]
  },
  {
   "cell_type": "code",
   "execution_count": 6,
   "metadata": {},
   "outputs": [
    {
     "name": "stdout",
     "output_type": "stream",
     "text": [
      "Current Year is :2019\n",
      "Current Month is :2\n",
      "Current Day is :27\n",
      "Current Hour is :16\n",
      "Current Minute is :23\n",
      "Current Second is :17\n",
      "Current Microsecond is :771099\n",
      "2019-02-2716:23:17\n",
      "2019/02/27\n",
      "16/23/17\n",
      "04/23/17 PM\n",
      "Wed,Feb 27,2019\n"
     ]
    }
   ],
   "source": [
    "#For printing year,month,day,time etc\n",
    "from datetime import*\n",
    "currentDT=datetime.now()\n",
    "print(\"Current Year is :%d\" % currentDT.year)\n",
    "print(\"Current Month is :%d\" % currentDT.month)\n",
    "print(\"Current Day is :%d\" % currentDT.day)\n",
    "print(\"Current Hour is :%d\" % currentDT.hour)\n",
    "print(\"Current Minute is :%d\" % currentDT.minute)\n",
    "print(\"Current Second is :%d\" % currentDT.second)\n",
    "print(\"Current Microsecond is :%d\" % currentDT.microsecond)\n",
    "\n",
    "print(currentDT.strftime(\"%Y-%m-%d%H:%M:%S\"))\n",
    "print(currentDT.strftime(\"%Y/%m/%d\"))\n",
    "print(currentDT.strftime(\"%H/%M/%S\"))\n",
    "print(currentDT.strftime(\"%I/%M/%S %p\"))\n",
    "print(currentDT.strftime(\"%a,%b %d,%Y\"))\n"
   ]
  },
  {
   "cell_type": "code",
   "execution_count": null,
   "metadata": {},
   "outputs": [],
   "source": [
    "from threading import*\n",
    "from time import*\n",
    "from datetime import*\n",
    "class MyClock(Thread):\n",
    "    def __init__(self):\n",
    "        Thread.__init__(self)\n",
    "        currentDT = datetime.now()\n",
    "        \n",
    "        self.h=currentDT.hour\n",
    "        self.m=currentDT.minute\n",
    "        self.s=currentDT.second\n",
    "    def run(self):\n",
    "        while True:\n",
    "            for self.h in range(self.h,12):\n",
    "                for self.m in range(self.m,60):\n",
    "                    for self.s in range(self.s,60):\n",
    "                        print(self.h,':',self.m,':',self.s)\n",
    "                        sleep(1)\n",
    "                    self.s=0\n",
    "                self.m=0\n",
    "            self.h=0\n",
    "            \n",
    "#Create new threads\n",
    "ob=MyClock()\n",
    "ob.start()"
   ]
  },
  {
   "cell_type": "code",
   "execution_count": 3,
   "metadata": {},
   "outputs": [],
   "source": [
    "def calculator(p,r):\n",
    "    def show(t):\n",
    "        return p*r*t/100;\n",
    "    return show\n",
    "\n",
    "ob=calculator(12000,8)\n",
    "obj=ob(5)"
   ]
  },
  {
   "cell_type": "code",
   "execution_count": 4,
   "metadata": {},
   "outputs": [
    {
     "name": "stdout",
     "output_type": "stream",
     "text": [
      "4800.0\n"
     ]
    }
   ],
   "source": [
    "print(obj)"
   ]
  },
  {
   "cell_type": "code",
   "execution_count": 22,
   "metadata": {},
   "outputs": [],
   "source": [
    "x=0"
   ]
  },
  {
   "cell_type": "code",
   "execution_count": 25,
   "metadata": {},
   "outputs": [
    {
     "name": "stdout",
     "output_type": "stream",
     "text": [
      "20\n"
     ]
    }
   ],
   "source": [
    "# Decorator\n",
    "\n",
    "def increment(x):\n",
    "    x+=1\n",
    "    return x\n",
    "\n",
    "def decres(x):\n",
    "    x-=1\n",
    "    return x\n",
    "def call(func,x):\n",
    "    result=func(x)\n",
    "    return result\n",
    "\n",
    "x=call(decres,20)\n",
    "x=call(increment,x)\n",
    "print(x)"
   ]
  },
  {
   "cell_type": "code",
   "execution_count": 26,
   "metadata": {},
   "outputs": [],
   "source": [
    "def sayhello(func):\n",
    "    def dream():\n",
    "        print('My dream is to open')\n",
    "    return dream\n",
    "def miraj():\n",
    "         print('Destroy Pakistan')\n",
    "        \n",
    "@sayhello\n",
    "def miraj():\n",
    "    print('Destroy Pakistan')\n",
    "    \n"
   ]
  },
  {
   "cell_type": "code",
   "execution_count": 27,
   "metadata": {},
   "outputs": [
    {
     "name": "stdout",
     "output_type": "stream",
     "text": [
      "My dream is to open\n"
     ]
    }
   ],
   "source": [
    "miraj()"
   ]
  },
  {
   "cell_type": "code",
   "execution_count": null,
   "metadata": {},
   "outputs": [],
   "source": []
  }
 ],
 "metadata": {
  "kernelspec": {
   "display_name": "Python 3",
   "language": "python",
   "name": "python3"
  },
  "language_info": {
   "codemirror_mode": {
    "name": "ipython",
    "version": 3
   },
   "file_extension": ".py",
   "mimetype": "text/x-python",
   "name": "python",
   "nbconvert_exporter": "python",
   "pygments_lexer": "ipython3",
   "version": "3.6.5"
  }
 },
 "nbformat": 4,
 "nbformat_minor": 2
}

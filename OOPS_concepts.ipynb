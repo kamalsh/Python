{
 "cells": [
  {
   "cell_type": "code",
   "execution_count": null,
   "metadata": {},
   "outputs": [],
   "source": [
    "'''\n",
    "Concepts Modified      \n",
    "1 Method overloading\n",
    "2 Firing of constructor\n",
    "3 Overriding'''"
   ]
  },
  {
   "cell_type": "code",
   "execution_count": null,
   "metadata": {},
   "outputs": [],
   "source": [
    "'''\n",
    "We have\n",
    "1 Class\n",
    "2 Object\n",
    "3 Inheritance :--\n",
    "            Single\n",
    "            Multi Level\n",
    "            Multiple\n",
    "            Hybrid\n",
    "4 Polymorphism:--\n",
    "            Overloading ---\n",
    "            Overriding --Only happens in case of inheritance (name and parameter same)\n",
    "5 Encapsulation :--- This means binding'''"
   ]
  },
  {
   "cell_type": "code",
   "execution_count": null,
   "metadata": {},
   "outputs": [],
   "source": [
    "'''Concept of Stack and Heap memory\n",
    " And why puthon is a dynamic language'''"
   ]
  },
  {
   "cell_type": "code",
   "execution_count": 1,
   "metadata": {},
   "outputs": [
    {
     "name": "stdout",
     "output_type": "stream",
     "text": [
      "Hello\n"
     ]
    }
   ],
   "source": [
    "                                    #Classes and Objects\n",
    "\n",
    "class Demo:\n",
    "    def show(self):                                      # self here denotes that the function is of class Demo\n",
    "        print('Hello')\n",
    "\n",
    "#Making of an object\n",
    "obj=Demo()\n",
    "#Call Function from class\n",
    "obj.show()\n"
   ]
  },
  {
   "cell_type": "code",
   "execution_count": 2,
   "metadata": {},
   "outputs": [
    {
     "name": "stdout",
     "output_type": "stream",
     "text": [
      "Fired\n",
      "Hi\n"
     ]
    }
   ],
   "source": [
    "                                      #CONSTRUCTOR\n",
    "\n",
    "class Demo:\n",
    "    def __init__(self):\n",
    "        print('Fired')\n",
    "    def Hello(self):\n",
    "        print('Hi')\n",
    "        \n",
    "ob=Demo()\n",
    "ob.Hello()"
   ]
  },
  {
   "cell_type": "code",
   "execution_count": 3,
   "metadata": {},
   "outputs": [
    {
     "name": "stdout",
     "output_type": "stream",
     "text": [
      "Fired Ramesh\n",
      "Hi\n"
     ]
    }
   ],
   "source": [
    "                                      #More than one CONSTRUCTOR\n",
    "\n",
    "class Demo:\n",
    "    def __init__(self):\n",
    "        print('Fired')\n",
    "    def __init__(self,name):\n",
    "        print('Fired',name)\n",
    "    def Hello(self):\n",
    "        print('Hi')\n",
    "        \n",
    "ob=Demo('Ramesh')                 # Note that the last constructor is remembered only. This is the case of overload\n",
    "                                  #  In overload the last method state is only remembered\n",
    "ob.Hello()\n",
    "                                        "
   ]
  },
  {
   "cell_type": "code",
   "execution_count": 4,
   "metadata": {},
   "outputs": [
    {
     "data": {
      "text/plain": [
       "\"Python has multiple types of variables :-- \\nLocal Variables:-- which are declared in method and used inside the method.It cannot be accessed from outside\\nInstance variables --These are created with self, that can be accessed throughout the class \\n                     and outside the class with the help of object\\nClass variable(Static variable):--  These variables are alwayss declared within a class and accessed with name of class\\n                                    (e.g. a is a variable in class Demo,so access this using Demo.a)\\n                                    and it only loads when first object is created and sharess value between object\\nGlobal variable :--These are declared with the keyword global and is accessed only with inheritance\\nPrivate variable:--These are always created with '__' and these canbe accessed only within a class \\nProtected variable :-- These are created with '_' . Protected member of a class are accessible from within the class and\\n                       its immediate successor .\\nPublic variable :- By default all the members are public\""
      ]
     },
     "execution_count": 4,
     "metadata": {},
     "output_type": "execute_result"
    }
   ],
   "source": [
    "'''Python has multiple types of variables :-- \n",
    "Local Variables:-- which are declared in method and used inside the method.It cannot be accessed from outside\n",
    "Instance variables --These are created with self, that can be accessed throughout the class \n",
    "                     and outside the class with the help of object\n",
    "Class variable(Static variable):--  These variables are alwayss declared within a class and accessed with name of class\n",
    "                                    (e.g. a is a variable in class Demo,so access this using Demo.a)\n",
    "                                    and it only loads when first object is created and sharess value between object\n",
    "Global variable :--These are declared with the keyword global and is accessed only with inheritance\n",
    "Private variable:--These are always created with '__' and these canbe accessed only within a class \n",
    "Protected variable :-- These are created with '_' . Protected member of a class are accessible from within the class and\n",
    "                       its immediate successor .\n",
    "Public variable :- By default all the members are public'''"
   ]
  },
  {
   "cell_type": "code",
   "execution_count": 5,
   "metadata": {},
   "outputs": [
    {
     "name": "stdout",
     "output_type": "stream",
     "text": [
      "15\n",
      "15\n"
     ]
    }
   ],
   "source": [
    "#Instance and Local Variables\n",
    "class Demo:\n",
    "    def __init__(self,x):\n",
    "        self.y=x\n",
    "    def add(self):\n",
    "        self.y+=5\n",
    "        print(self.y)\n",
    "ob=Demo(10)\n",
    "ob.add()\n",
    "print(ob.y)"
   ]
  },
  {
   "cell_type": "code",
   "execution_count": 6,
   "metadata": {},
   "outputs": [
    {
     "name": "stdout",
     "output_type": "stream",
     "text": [
      "Value 1 11\n",
      "Value 2 11\n",
      "Value 1 12\n",
      "Value 2 11\n"
     ]
    }
   ],
   "source": [
    "#Static Variables\n",
    "class Demo:\n",
    "    x=10\n",
    "    def __init__(self):\n",
    "        self.x=10\n",
    "    def add(self):\n",
    "        Demo.x+=1\n",
    "        self.x+=1\n",
    "        print('Value 1',Demo.x)\n",
    "        print('Value 2',self.x)\n",
    "obj1=Demo()\n",
    "obj2=Demo()                # The control goes to the constructor directly,and x=10(which is called static) is not initialized\n",
    "obj1.add()\n",
    "obj2.add()"
   ]
  },
  {
   "cell_type": "code",
   "execution_count": 7,
   "metadata": {},
   "outputs": [
    {
     "name": "stdout",
     "output_type": "stream",
     "text": [
      "Ram\n"
     ]
    }
   ],
   "source": [
    "#Property is setting and getting the value of a variable\n",
    "\n",
    "class Demo:\n",
    "    def setName(self,name):\n",
    "        self.name=name\n",
    "    def getName(self):\n",
    "        return self.name \n",
    "    \n",
    "ob=Demo()\n",
    "ob.setName('Ram')\n",
    "print(ob.getName())\n",
    "\n",
    "#This is the old method"
   ]
  },
  {
   "cell_type": "code",
   "execution_count": 8,
   "metadata": {},
   "outputs": [
    {
     "name": "stdout",
     "output_type": "stream",
     "text": [
      "setname() called\n",
      "getName() called\n",
      "Raman\n"
     ]
    }
   ],
   "source": [
    "# New Method\n",
    "class Demo:\n",
    "    def __init__(self):\n",
    "        self.__name=''\n",
    "    def setName(self,name):\n",
    "        print('setname() called')\n",
    "        self.__name=name\n",
    "    def getName(self):\n",
    "        print('getName() called')\n",
    "        return self.__name\n",
    "    name=property(getName,setName)\n",
    "    \n",
    "ob=Demo()\n",
    "ob.name='Raman'\n",
    "print(ob.name)"
   ]
  },
  {
   "cell_type": "code",
   "execution_count": 10,
   "metadata": {},
   "outputs": [
    {
     "name": "stdout",
     "output_type": "stream",
     "text": [
      "setName() called\n",
      "getName() called\n",
      "Raman\n",
      "delName called\n"
     ]
    }
   ],
   "source": [
    "# New Method\n",
    "class Demo:\n",
    "    def __init__(self):\n",
    "        self.__name=''\n",
    "    def setName(self,name):\n",
    "        print('setName() called')\n",
    "        self.__name=name\n",
    "    def getName(self):\n",
    "        print('getName() called')\n",
    "        return self.__name\n",
    "    def delName(self):\n",
    "        print('delName called')\n",
    "    name=property(getName,setName,delName)\n",
    "    \n",
    "ob=Demo()\n",
    "ob.name='Raman'\n",
    "print(ob.name)\n",
    "del ob.name"
   ]
  },
  {
   "cell_type": "code",
   "execution_count": 11,
   "metadata": {},
   "outputs": [
    {
     "name": "stdout",
     "output_type": "stream",
     "text": [
      "Hi from Base class\n",
      "Hello from Derived\n"
     ]
    }
   ],
   "source": [
    "class Base:\n",
    "    def add(kamal):\n",
    "        print('Hi from Base class')\n",
    "class Derived(Base):\n",
    "    def show(kamal):\n",
    "        print('Hello from Derived')\n",
    "ob=Derived()\n",
    "ob.add()\n",
    "ob.show()"
   ]
  },
  {
   "cell_type": "code",
   "execution_count": 12,
   "metadata": {},
   "outputs": [
    {
     "name": "stdout",
     "output_type": "stream",
     "text": [
      "Sderived\n",
      "Hi from Base class\n",
      "Hello from Derived\n",
      "Hello\n"
     ]
    }
   ],
   "source": [
    "###Multilevel Inheritance\n",
    "\n",
    "class Base:\n",
    "    def __init__(Aditya):\n",
    "        print('Base')\n",
    "    def add(kamal):\n",
    "        print('Hi from Base class')\n",
    "class Derived(Base):\n",
    "    def __init__(Saurabh):\n",
    "        print('Derived')\n",
    "    def show(kamal):\n",
    "        print('Hello from Derived')\n",
    "class Sderived(Derived):\n",
    "    def __init__(kamal):\n",
    "        print('Sderived')\n",
    "    def hello(self):\n",
    "        print('Hello')\n",
    "ob=Sderived()\n",
    "ob.add()\n",
    "ob.show()\n",
    "ob.hello()"
   ]
  },
  {
   "cell_type": "code",
   "execution_count": 13,
   "metadata": {},
   "outputs": [
    {
     "name": "stdout",
     "output_type": "stream",
     "text": [
      "1\n",
      "3\n",
      "Hello from Student\n",
      "I got 100% marks\n",
      "First Division\n"
     ]
    }
   ],
   "source": [
    "# Multiple Inheritence\n",
    "# Note that always one constructor is called\n",
    "# Constructor is a predefined method.If you will not use it,will not matter.\n",
    "# Constructor is used when we want to pass the  value of variable at runtime. \n",
    "class Student:\n",
    "    def __init__(kamal):\n",
    "        print('1')\n",
    "    def setInfo(self):\n",
    "        print('Hello from Student')\n",
    "\n",
    "class Marks:\n",
    "    def __init__(kamal):\n",
    "        print('2')\n",
    "    def getMarks(kamal):\n",
    "        print('I got 100% marks')\n",
    "    \n",
    "class Result(Student,Marks):\n",
    "    def __init__(self):\n",
    "        super().__init__()\n",
    "        print('3')\n",
    "    def printResult(kamal):\n",
    "        print('First Division')\n",
    "\n",
    "obj=Result()\n",
    "obj.setInfo()\n",
    "obj.getMarks()\n",
    "obj.printResult()"
   ]
  },
  {
   "cell_type": "code",
   "execution_count": 14,
   "metadata": {},
   "outputs": [
    {
     "name": "stdout",
     "output_type": "stream",
     "text": [
      "Enter NameKamal\n",
      "Enter age20\n",
      "Enter marks of Physics55\n",
      "Enter marks of chemistry66\n",
      "Enter marks of maths55\n",
      "NAme of Student: Kamal\n",
      "Age of Student 20\n",
      "Division First\n"
     ]
    }
   ],
   "source": [
    "class Student:\n",
    "    def info(self):\n",
    "        global name,age                      #global variable helps to inherit variables globally\n",
    "        name=input('Enter Name')\n",
    "        age=(int)(input('Enter age'))\n",
    "class Marks(Student):\n",
    "    def getMarks(self):\n",
    "        global p,c,m\n",
    "        p=(int)(input('Enter marks of Physics'))\n",
    "        c=(int)(input('Enter marks of chemistry'))\n",
    "        m=(int)(input('Enter marks of maths'))\n",
    "class Result(Marks):\n",
    "    def getResult(self):\n",
    "        global div\n",
    "        per=p+c+m/3\n",
    "        if per>=60:\n",
    "            div='First'\n",
    "        elif per>=45 and per<60:\n",
    "            div='Second'\n",
    "        elif per>=33 and per<45:\n",
    "            div='Third'\n",
    "        else:\n",
    "            div='Fail'\n",
    "    def show(self):\n",
    "        print('NAme of Student:',name)\n",
    "        print('Age of Student',age)\n",
    "        print('Division',div)\n",
    "ob=Result()\n",
    "ob.info()\n",
    "ob.getMarks()\n",
    "ob.getResult()\n",
    "ob.show()"
   ]
  },
  {
   "cell_type": "code",
   "execution_count": null,
   "metadata": {},
   "outputs": [
    {
     "name": "stdout",
     "output_type": "stream",
     "text": [
      "Enter NameKamal Sharma\n",
      "Enter age23\n",
      "Enter marks of Physics77\n",
      "Enter marks of chemistry87\n",
      "Enter marks of maths78\n",
      "NAme of Student: Kamal Sharma\n",
      "Age of Student 23\n",
      "Division First\n"
     ]
    }
   ],
   "source": [
    "#Code for 5 students\n",
    "class Student:\n",
    "    def info(self):\n",
    "        global name,age                      #global variable helps to inherit variables globally\n",
    "        name=input('Enter Name')\n",
    "        age=(int)(input('Enter age'))\n",
    "class Marks(Student):\n",
    "    def getMarks(self):\n",
    "        global p,c,m\n",
    "        p=(int)(input('Enter marks of Physics'))\n",
    "        c=(int)(input('Enter marks of chemistry'))\n",
    "        m=(int)(input('Enter marks of maths'))\n",
    "class Result(Marks):\n",
    "    def getResult(self):\n",
    "        global div\n",
    "        per=p+c+m/3\n",
    "        if per>=60:\n",
    "            div='First'\n",
    "        elif per>=45 and per<60:\n",
    "            div='Second'\n",
    "        elif per>=33 and per<45:\n",
    "            div='Third'\n",
    "        else:\n",
    "            div='Fail'\n",
    "    def show(self):\n",
    "        print('NAme of Student:',name)\n",
    "        print('Age of Student',age)\n",
    "        print('Division',div)\n",
    "for i in range(0,5):\n",
    "    ob=Result()\n",
    "    ob.info()\n",
    "    ob.getMarks()\n",
    "    ob.getResult()\n",
    "    ob.show()"
   ]
  },
  {
   "cell_type": "code",
   "execution_count": 1,
   "metadata": {},
   "outputs": [
    {
     "name": "stdout",
     "output_type": "stream",
     "text": [
      "Welcome Ram\n"
     ]
    }
   ],
   "source": [
    "#Method Overriding\n",
    "#Used when signature is same\\\n",
    "#Signature is when name and parameter both are same\n",
    "class A:\n",
    "    def show(self,name):\n",
    "        print('Hello',name)\n",
    "        \n",
    "class B(A):\n",
    "    def show(self,name):\n",
    "        print('Welcome',name)\n",
    "ob=B()\n",
    "ob.show('Ram')"
   ]
  },
  {
   "cell_type": "code",
   "execution_count": 2,
   "metadata": {},
   "outputs": [
    {
     "data": {
      "text/plain": [
       "'\\np1+p2  p1.__add__(p2)\\np1-p2  p1.__sub__(p2)\\np1*p2  p1.__mul__(p2)\\np1**p2  p1.__pow__(p2)\\np1/p2  p1.__truediv__(p2)\\np1//p2  p1.__floordiv__(p2)\\np1%p2  p1.__mod__(p2)\\n'"
      ]
     },
     "execution_count": 2,
     "metadata": {},
     "output_type": "execute_result"
    }
   ],
   "source": [
    "#Operator Overriding\n",
    "'''\n",
    "p1+p2  p1.__add__(p2)\n",
    "p1-p2  p1.__sub__(p2)\n",
    "p1*p2  p1.__mul__(p2)\n",
    "p1**p2  p1.__pow__(p2)\n",
    "p1/p2  p1.__truediv__(p2)\n",
    "p1//p2  p1.__floordiv__(p2)\n",
    "p1%p2  p1.__mod__(p2)\n",
    "'''"
   ]
  },
  {
   "cell_type": "code",
   "execution_count": 3,
   "metadata": {},
   "outputs": [
    {
     "name": "stdout",
     "output_type": "stream",
     "text": [
      "<__main__.Abc object at 0x000000613599BFD0>\n"
     ]
    }
   ],
   "source": [
    "class Abc:\n",
    "    def show(self):\n",
    "        print('Hello')\n",
    "ob=Abc()\n",
    "print(ob)"
   ]
  },
  {
   "cell_type": "code",
   "execution_count": 9,
   "metadata": {},
   "outputs": [
    {
     "name": "stdout",
     "output_type": "stream",
     "text": [
      "Object is created\n"
     ]
    }
   ],
   "source": [
    "class Abc:\n",
    "    def show(self):\n",
    "        print('Hello')\n",
    "    def __str__(self):\n",
    "        return 'Object is created'\n",
    "ob=Abc()\n",
    "print(ob)"
   ]
  },
  {
   "cell_type": "code",
   "execution_count": 4,
   "metadata": {},
   "outputs": [
    {
     "name": "stdout",
     "output_type": "stream",
     "text": [
      "Object is created\n",
      "None\n"
     ]
    }
   ],
   "source": [
    "class Abc:\n",
    "    def __init__(self,x,y):\n",
    "        self.x=x\n",
    "        self.y=y\n",
    "    def show(self):\n",
    "        print('Hello')\n",
    "    def __str__(self):\n",
    "        return 'Object is created'\n",
    "    def __add__(self,other):\n",
    "        i=self.x+other.x\n",
    "        j=self.y+other.y\n",
    "ob=Abc(34,45)\n",
    "print(ob)\n",
    "ob1=Abc(23,34)\n",
    "print(ob+ob1)"
   ]
  },
  {
   "cell_type": "code",
   "execution_count": 5,
   "metadata": {},
   "outputs": [
    {
     "name": "stdout",
     "output_type": "stream",
     "text": [
      "(276, 714)\n"
     ]
    }
   ],
   "source": [
    "class Demo:\n",
    "    def __init__(self,x,y):\n",
    "        self.x=x\n",
    "        self.y=y\n",
    "    def __mul__(self,you):\n",
    "        i=self.x*you.x\n",
    "        j=self.y*you.y\n",
    "        return (i,j)\n",
    "obj=Demo(23,34)\n",
    "obj1=Demo(12,21)\n",
    "print(obj*obj1)"
   ]
  },
  {
   "cell_type": "code",
   "execution_count": null,
   "metadata": {},
   "outputs": [],
   "source": []
  }
 ],
 "metadata": {
  "kernelspec": {
   "display_name": "Python 3",
   "language": "python",
   "name": "python3"
  },
  "language_info": {
   "codemirror_mode": {
    "name": "ipython",
    "version": 3
   },
   "file_extension": ".py",
   "mimetype": "text/x-python",
   "name": "python",
   "nbconvert_exporter": "python",
   "pygments_lexer": "ipython3",
   "version": "3.6.5"
  }
 },
 "nbformat": 4,
 "nbformat_minor": 2
}

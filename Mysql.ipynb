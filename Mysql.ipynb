{
 "cells": [
  {
   "cell_type": "code",
   "execution_count": null,
   "metadata": {},
   "outputs": [],
   "source": [
    "pip install pymysql --------------------------can be used as (import pymysql)\n",
    "mysql -u root -p\n",
    "create database jk;\n",
    "drop database jk;\n",
    "show databases;\n"
   ]
  },
  {
   "cell_type": "code",
   "execution_count": null,
   "metadata": {},
   "outputs": [],
   "source": [
    "                Data types\n",
    "int \n",
    "float\n",
    "varchar     2000\n",
    "char    256\n",
    "blob\n",
    "lob\n",
    "long\n",
    "\n",
    "                Constraints\n",
    "primary key --only one in a table-------------if there are more than one,they are called composite keys\n",
    "foreign key --- a table can contain many foreign keys\n",
    "default \n",
    "null \n",
    "unique\n",
    "\n",
    "            TO make a table::::\n",
    "\n",
    "create table name(\n",
    "fieldname datatype constraint,                                constraints are optional\n",
    "fieldname datatype constraint,\n",
    "fieldname datatype constraint,\n",
    "fieldname datatype constraint,\n",
    "fieldname datatype constraint\n",
    "...)\n",
    "\n",
    "create table emp(\n",
    "empno int primary key,\n",
    "ename varchar(30),\n",
    "salary float);\n",
    "\n",
    "            For inserting in a table:::::\n",
    "1 WAY:: insert into tname value(1,'ram',2000);\n",
    "2 WAY:: insert into emp(empno,ename,salary)\n",
    "        values(1,'Ram',2222)\n",
    "\n",
    "            To view the records in table:::\n",
    "1 select fieldname1,...or*(all field) from tab1,tab2... where condition\n",
    "2 order by fieldname1,fn2..\n",
    "3 group by fieldname\n",
    "4 having condition                       #Having cannot be alone,It is always along with group by\n",
    "\n",
    "\n",
    "\n",
    "Home work::\n",
    "        create table with 10-15 rows,with some of the records similar\n",
    "\n",
    "        LAyout::\n",
    "                empno\n",
    "                ename\n",
    "                salary\n",
    "                design\n",
    "                deptno----10,20,30\n",
    "\n",
    "\n",
    "\n"
   ]
  },
  {
   "cell_type": "markdown",
   "metadata": {},
   "source": [
    "# 19 feb\n"
   ]
  },
  {
   "cell_type": "code",
   "execution_count": null,
   "metadata": {},
   "outputs": [],
   "source": [
    "select sum(salary) from kam\n",
    "group by deptno\n",
    ";\n",
    "\n",
    "select sum(salary) from kam\n",
    "group by deptno having sum(salary)>10000"
   ]
  },
  {
   "cell_type": "code",
   "execution_count": null,
   "metadata": {},
   "outputs": [],
   "source": [
    "select * from emp where ename like 'A%';\n",
    "select * from emp where ename like '_a%';"
   ]
  },
  {
   "cell_type": "code",
   "execution_count": null,
   "metadata": {},
   "outputs": [],
   "source": [
    "delete from emp where empno=1;"
   ]
  },
  {
   "cell_type": "code",
   "execution_count": null,
   "metadata": {},
   "outputs": [],
   "source": [
    "update kam set salary=salary+salary*10/100 where empno=1;"
   ]
  },
  {
   "cell_type": "code",
   "execution_count": null,
   "metadata": {},
   "outputs": [],
   "source": [
    "create table login(\n",
    "userid varcahr(30) primary key,\n",
    "password varchar(30));\n",
    "\n",
    "from pymysql import *\n",
    "con = connect(db='test',user='root',password='password',host='localhost')\n",
    "print(con)"
   ]
  }
 ],
 "metadata": {
  "kernelspec": {
   "display_name": "Python 3",
   "language": "python",
   "name": "python3"
  },
  "language_info": {
   "codemirror_mode": {
    "name": "ipython",
    "version": 3
   },
   "file_extension": ".py",
   "mimetype": "text/x-python",
   "name": "python",
   "nbconvert_exporter": "python",
   "pygments_lexer": "ipython3",
   "version": "3.6.5"
  }
 },
 "nbformat": 4,
 "nbformat_minor": 2
}

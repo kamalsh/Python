{
 "cells": [
  {
   "cell_type": "code",
   "execution_count": null,
   "metadata": {},
   "outputs": [],
   "source": [
    "#Threads"
   ]
  },
  {
   "cell_type": "code",
   "execution_count": null,
   "metadata": {},
   "outputs": [],
   "source": [
    "import threading\n",
    "print(threading.main_thread())"
   ]
  },
  {
   "cell_type": "code",
   "execution_count": null,
   "metadata": {},
   "outputs": [],
   "source": [
    "import threading\n",
    "\n",
    "def delayed():\n",
    "    print(\"I am printed after 5 seconds\")\n",
    "\n",
    "thread = threading.Timer(5,delayed)\n",
    "thread.start()"
   ]
  },
  {
   "cell_type": "code",
   "execution_count": null,
   "metadata": {},
   "outputs": [],
   "source": [
    "from threading import*\n",
    "import time\n",
    "class Demo(Thread):\n",
    "    def __init__(self):\n",
    "        Thread.__init__(self)\n",
    "    def run(self):\n",
    "        for x in range(1,6):\n",
    "            print(x)\n",
    "            time.sleep(2)\n",
    "            \n",
    "ob=Demo()\n",
    "ob.start()"
   ]
  },
  {
   "cell_type": "code",
   "execution_count": 7,
   "metadata": {},
   "outputs": [
    {
     "name": "stdout",
     "output_type": "stream",
     "text": [
      "Square: 100\n",
      "Cube: 125Thread one finished\n",
      "\n",
      "Thread two finished\n",
      "Done!\n"
     ]
    }
   ],
   "source": [
    "import threading\n",
    "\n",
    "def print_cube(num):\n",
    "    print(\"Cube: {}\".format(num*num*num))\n",
    "    \n",
    "def print_square(num):\n",
    "    print(\"Square: {}\".format(num*num))\n",
    "\n",
    "if __name__ == \"__main__\":\n",
    "    \n",
    "    #creating thread\n",
    "    t1 = threading.Thread(target=print_square,args=(10,))\n",
    "    t2 = threading.Thread(target=print_cube,args=(5,))\n",
    "    \n",
    "    #starting thread 1\n",
    "    t1.start()\n",
    "    #starting thread 2\n",
    "    t2.start()\n",
    "    \n",
    "    #wait until thread 1 is completely executed\n",
    "    t1.join()\n",
    "    \n",
    "    print('Thread one finished')\n",
    "    \n",
    "    #wait until thread 2 is completely executed\n",
    "    print('Thread two finished')\n",
    "    \n",
    "    #both threads completely executed\n",
    "    print(\"Done!\")"
   ]
  },
  {
   "cell_type": "code",
   "execution_count": 10,
   "metadata": {},
   "outputs": [
    {
     "name": "stdout",
     "output_type": "stream",
     "text": [
      "ID of process running main program:6116\n",
      "Main thread name:MainThread\n",
      "Taks 1 assigned to thread: t1Task 2 assigned to thread: t2\n",
      "ID of process running task 1:6116\n",
      "\n",
      "ID of process running task 2 :6116\n",
      "task1 finished\n"
     ]
    }
   ],
   "source": [
    "import threading\n",
    "import os\n",
    "import time\n",
    "def task1():\n",
    "    print(\"Taks 1 assigned to thread: {}\".format(threading.current_thread().name))\n",
    "    print(\"ID of process running task 1:{}\".format(os.getpid()))\n",
    "    \n",
    "    time.sleep(2)\n",
    "    print('task1 finished')\n",
    "def task2():\n",
    "    print(\"Task 2 assigned to thread: {}\".format(threading.current_thread().name))\n",
    "    print(\"ID of process running task 2 :{}\".format(os.getpid()))\n",
    "    \n",
    "    time.sleep(5)\n",
    "if __name__==\"__main__\":\n",
    "    \n",
    "    #print ID of current process\n",
    "    print(\"ID of process running main program:{}\".format(os.getpid()))\n",
    "    \n",
    "    #print name of main thread \n",
    "    print(\"Main thread name:{}\".format(threading.main_thread().name))\n",
    "    t1 = threading.Thread(target=task1,name='t1')\n",
    "    t2 = threading.Thread(target=task2,name='t2')\n",
    "    \n",
    "    #starting threads\n",
    "    t1.start()\n",
    "    t2.start()\n",
    "    \n",
    "    t1.join()\n",
    "    t2.join()"
   ]
  },
  {
   "cell_type": "code",
   "execution_count": null,
   "metadata": {},
   "outputs": [],
   "source": []
  }
 ],
 "metadata": {
  "kernelspec": {
   "display_name": "Python 3",
   "language": "python",
   "name": "python3"
  },
  "language_info": {
   "codemirror_mode": {
    "name": "ipython",
    "version": 3
   },
   "file_extension": ".py",
   "mimetype": "text/x-python",
   "name": "python",
   "nbconvert_exporter": "python",
   "pygments_lexer": "ipython3",
   "version": "3.6.5"
  }
 },
 "nbformat": 4,
 "nbformat_minor": 2
}
